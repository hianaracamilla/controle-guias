{
  "nbformat": 4,
  "nbformat_minor": 0,
  "metadata": {
    "colab": {
      "provenance": [],
      "include_colab_link": true
    },
    "kernelspec": {
      "name": "python3",
      "display_name": "Python 3"
    },
    "language_info": {
      "name": "python"
    }
  },
  "cells": [
    {
      "cell_type": "markdown",
      "metadata": {
        "id": "view-in-github",
        "colab_type": "text"
      },
      "source": [
        "<a href=\"https://colab.research.google.com/github/hianaracamilla/controle-guias/blob/main/Controle_de_guias.ipynb\" target=\"_parent\"><img src=\"https://colab.research.google.com/assets/colab-badge.svg\" alt=\"Open In Colab\"/></a>"
      ]
    },
    {
      "cell_type": "markdown",
      "source": [
        "IMPORTANDO O PANDAS"
      ],
      "metadata": {
        "id": "-72IbCTLYhk_"
      }
    },
    {
      "cell_type": "code",
      "execution_count": 1,
      "metadata": {
        "id": "v7J0MNZxXWj2"
      },
      "outputs": [],
      "source": [
        "import pandas as pd"
      ]
    },
    {
      "cell_type": "markdown",
      "source": [
        "IMPORTANDO A PÁGINA HTML E VERIFICANDO QUANTAS TABELAS HÁ"
      ],
      "metadata": {
        "id": "dykBOjw_Yjmp"
      }
    },
    {
      "cell_type": "code",
      "source": [
        "viagens = pd.read_html('/content/tours_atual.html')\n",
        "len(viagens)"
      ],
      "metadata": {
        "colab": {
          "base_uri": "https://localhost:8080/"
        },
        "id": "sQw92Zc9XfLB",
        "outputId": "3179a692-f652-4a14-f625-5b7114bba8cb"
      },
      "execution_count": 18,
      "outputs": [
        {
          "output_type": "execute_result",
          "data": {
            "text/plain": [
              "6"
            ]
          },
          "metadata": {},
          "execution_count": 18
        }
      ]
    },
    {
      "cell_type": "markdown",
      "source": [
        "SELECIONANDO A TABELA COM OS DADOS EM UM DATAFRAME"
      ],
      "metadata": {
        "id": "cgchLQQjYqNg"
      }
    },
    {
      "cell_type": "code",
      "source": [
        "df_viagens = viagens[3]"
      ],
      "metadata": {
        "id": "DS-uyTjCXmNi"
      },
      "execution_count": 19,
      "outputs": []
    },
    {
      "cell_type": "markdown",
      "source": [
        "Apagando linhas e colunas que não serão usadas e resetando o index"
      ],
      "metadata": {
        "id": "LzmhLCreYuvW"
      }
    },
    {
      "cell_type": "code",
      "source": [
        "df_viagens.drop([0,1,2,3,4], axis=0, inplace=True)\n",
        "df_viagens.drop([1,3,4,5, 7, 10, 11, 12, 13, 14, 15, 16, 17, 18], axis=1, inplace=True)\n",
        "df_viagens.reset_index(drop=True, inplace=True, )"
      ],
      "metadata": {
        "id": "X2dTQgdXYnNM"
      },
      "execution_count": 20,
      "outputs": []
    },
    {
      "cell_type": "markdown",
      "source": [
        "Transformando a primeira linha em cabeçalho"
      ],
      "metadata": {
        "id": "sV1RKT-6ZoxE"
      }
    },
    {
      "cell_type": "code",
      "source": [
        "df_viagens.columns = df_viagens.iloc[0]\n",
        "df_viagens = df_viagens[1:]\n",
        "df_viagens.reset_index(drop=True, inplace=True, )"
      ],
      "metadata": {
        "id": "ptG9o8scaVZ6"
      },
      "execution_count": 21,
      "outputs": []
    },
    {
      "cell_type": "markdown",
      "source": [
        "Criando cópia de segurança, retirando NA da coluna Guia, somando a quantidade de passageiros, e agrupando por guia"
      ],
      "metadata": {
        "id": "JAz4QqdMk7cm"
      }
    },
    {
      "cell_type": "code",
      "source": [
        "df = df_viagens.copy()\n",
        "\n",
        "df = df[df['Guia'].notna()]\n",
        "\n",
        "df.loc[:, 'PAX'] = df['PAX'].apply(lambda x: eval(x.replace('+', '+')) if '+' in x else int(x))\n",
        "\n",
        "df.loc[:, 'Total PAX por Guia'] = df.groupby('Guia')['PAX'].transform('sum')"
      ],
      "metadata": {
        "id": "5NyP0o-9eA7J"
      },
      "execution_count": 22,
      "outputs": []
    },
    {
      "cell_type": "markdown",
      "source": [
        "Transformando a data, para deixar apenas os numeros"
      ],
      "metadata": {
        "id": "t7hA00ahlPSw"
      }
    },
    {
      "cell_type": "code",
      "source": [
        "df.loc[:, 'Data'] = df['Data'].str.split(' ').str[1]"
      ],
      "metadata": {
        "id": "dhBq08QRgHau"
      },
      "execution_count": 23,
      "outputs": []
    },
    {
      "cell_type": "markdown",
      "source": [
        "Apagando duplicados com 2 critérios"
      ],
      "metadata": {
        "id": "sBiv2dcflaHF"
      }
    },
    {
      "cell_type": "code",
      "source": [
        "df = df.drop_duplicates(subset=['Guia', 'Tour'])"
      ],
      "metadata": {
        "id": "KYLAQgn6gM4_"
      },
      "execution_count": 24,
      "outputs": []
    },
    {
      "cell_type": "markdown",
      "source": [
        "Reorganizando as colunas"
      ],
      "metadata": {
        "id": "yLyVpN6Dlqtf"
      }
    },
    {
      "cell_type": "code",
      "source": [
        "df = df[['Data', 'Guia', 'Total PAX por Guia', 'Tour']]"
      ],
      "metadata": {
        "id": "WxndbyjYgdEH"
      },
      "execution_count": 25,
      "outputs": []
    },
    {
      "cell_type": "markdown",
      "source": [
        "Filtrando tours não inclusos"
      ],
      "metadata": {
        "id": "lQKZ9LQflvg9"
      }
    },
    {
      "cell_type": "code",
      "source": [
        "patterns_to_remove = ['Concha Y Toro', 'Alyan', 'Privativo', 'Cousiño', 'Transporte', 'Undurraga', 'Sunset El Principal', 'Parque Safari']\n",
        "df = df[~df['Tour'].str.startswith(tuple(patterns_to_remove))]\n",
        "df.reset_index(drop=True, inplace=True, )"
      ],
      "metadata": {
        "id": "lF5RL_BDh55b"
      },
      "execution_count": 26,
      "outputs": []
    },
    {
      "cell_type": "markdown",
      "source": [
        "Função para ajustar nome do tour com critérios"
      ],
      "metadata": {
        "id": "Vw6fMT3wl5CJ"
      }
    },
    {
      "cell_type": "code",
      "source": [
        "def ajustar_nome_tour(row):\n",
        "    if row['Total PAX por Guia'] > 19:\n",
        "        tour_name = row['Tour']\n",
        "        if tour_name.startswith('City Tour'):\n",
        "            return tour_name  # Pula City Tour\n",
        "        elif tour_name == 'Portillo E Laguna Del Inca':\n",
        "            return 'Portillo Bus'\n",
        "        elif tour_name == 'Farellones Full Day':\n",
        "            return 'Farellones Full Day BUS'\n",
        "        elif tour_name == 'Valparaiso E Vina Del Mar':\n",
        "            return 'Valparaiso BUS'\n",
        "        else:\n",
        "            return tour_name + ' BUS'\n",
        "    else:\n",
        "        return row['Tour']"
      ],
      "metadata": {
        "id": "kM-nijzYpBPd"
      },
      "execution_count": 27,
      "outputs": []
    },
    {
      "cell_type": "markdown",
      "source": [
        "Aplicando função na coluna tour."
      ],
      "metadata": {
        "id": "Xt1fEauNl-G9"
      }
    },
    {
      "cell_type": "code",
      "source": [
        "df['Tour'] = df.apply(ajustar_nome_tour, axis=1)\n",
        "df = df.sort_values(by='Tour')"
      ],
      "metadata": {
        "id": "cBv-s1hUpHxL"
      },
      "execution_count": 28,
      "outputs": []
    },
    {
      "cell_type": "markdown",
      "source": [
        "Exportando como excel"
      ],
      "metadata": {
        "id": "U41lRCiLmNxW"
      }
    },
    {
      "cell_type": "code",
      "source": [
        "df.to_excel('guia_x_tour.xlsx', index=False)"
      ],
      "metadata": {
        "id": "eymOpJZfiClq"
      },
      "execution_count": 29,
      "outputs": []
    }
  ]
}